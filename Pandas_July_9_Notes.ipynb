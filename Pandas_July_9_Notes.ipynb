{
  "nbformat": 4,
  "nbformat_minor": 0,
  "metadata": {
    "colab": {
      "name": "Pandas July 9  Notes.ipynb",
      "provenance": [],
      "collapsed_sections": [],
      "authorship_tag": "ABX9TyOEhFP3oYQ8zzFbK1Zd2Jlm",
      "include_colab_link": true
    },
    "kernelspec": {
      "name": "python3",
      "display_name": "Python 3"
    },
    "language_info": {
      "name": "python"
    }
  },
  "cells": [
    {
      "cell_type": "markdown",
      "metadata": {
        "id": "view-in-github",
        "colab_type": "text"
      },
      "source": [
        "<a href=\"https://colab.research.google.com/github/naga-sk/IDST-notes/blob/main/Pandas_July_9_Notes.ipynb\" target=\"_parent\"><img src=\"https://colab.research.google.com/assets/colab-badge.svg\" alt=\"Open In Colab\"/></a>"
      ]
    },
    {
      "cell_type": "code",
      "execution_count": null,
      "metadata": {
        "id": "0DAGTP0sOhju"
      },
      "outputs": [],
      "source": [
        "import numpy as np\n",
        "import pandas as pd"
      ]
    },
    {
      "cell_type": "code",
      "source": [
        "df = pd.DataFrame()"
      ],
      "metadata": {
        "id": "b50Bu6nKOzI7"
      },
      "execution_count": null,
      "outputs": []
    },
    {
      "cell_type": "code",
      "source": [
        "pd.__version__"
      ],
      "metadata": {
        "colab": {
          "base_uri": "https://localhost:8080/",
          "height": 35
        },
        "id": "lV4ZhuKpTmfD",
        "outputId": "c7637660-bdc4-4216-bdae-a30a3c76295a"
      },
      "execution_count": null,
      "outputs": [
        {
          "output_type": "execute_result",
          "data": {
            "text/plain": [
              "'1.3.5'"
            ],
            "application/vnd.google.colaboratory.intrinsic+json": {
              "type": "string"
            }
          },
          "metadata": {},
          "execution_count": 5
        }
      ]
    },
    {
      "cell_type": "code",
      "source": [
        "df.merge?"
      ],
      "metadata": {
        "id": "33ck4IBhO3vJ"
      },
      "execution_count": null,
      "outputs": []
    },
    {
      "cell_type": "markdown",
      "source": [
        "# DataFrame joins\n",
        "* \"How\" parameter = Type of join\n",
        "* param values = inner, outer, left and right"
      ],
      "metadata": {
        "id": "8WIG0KFKPaCD"
      }
    },
    {
      "cell_type": "markdown",
      "source": [
        "# Reset an index\n",
        "* reset_index() Creates a new sequential Index column after rows have been dropped due to joins or deleted rows\n",
        "* Any existing column can be listed as an index using set_index()"
      ],
      "metadata": {
        "id": "fmKXfTsIPXB1"
      }
    },
    {
      "cell_type": "code",
      "source": [
        ""
      ],
      "metadata": {
        "id": "bKdRQcdIPJfS"
      },
      "execution_count": null,
      "outputs": []
    },
    {
      "cell_type": "markdown",
      "source": [
        "# Concat\n",
        "When we want to append a large ammount of data to an existing dataframe irrespective of whether there is a match column or not"
      ],
      "metadata": {
        "id": "WY2vZeu6UTqP"
      }
    },
    {
      "cell_type": "markdown",
      "source": [
        "Different types of fills\n",
        "* Mean\n",
        "* Median\n",
        "* Mode\n",
        "* Forward Fill\n",
        "* Backward Fill\n",
        "* Interpolation"
      ],
      "metadata": {
        "id": "bnd6MWCNXRRS"
      }
    },
    {
      "cell_type": "code",
      "source": [
        ""
      ],
      "metadata": {
        "id": "CQccX3HmRdpq"
      },
      "execution_count": null,
      "outputs": []
    }
  ]
}